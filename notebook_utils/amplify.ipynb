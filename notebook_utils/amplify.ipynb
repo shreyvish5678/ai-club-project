{
 "cells": [
  {
   "cell_type": "code",
   "execution_count": 6,
   "metadata": {},
   "outputs": [
    {
     "name": "stderr",
     "output_type": "stream",
     "text": [
      "  0%|          | 0/100 [00:00<?, ?it/s]"
     ]
    },
    {
     "name": "stderr",
     "output_type": "stream",
     "text": [
      "100%|██████████| 100/100 [00:00<00:00, 110.55it/s]\n"
     ]
    }
   ],
   "source": [
    "from pydub import AudioSegment\n",
    "from tqdm import tqdm\n",
    "for i in tqdm(range(100)):\n",
    "    audio = AudioSegment.from_mp3(f\"KAGGLE_AUDIOS/audio_gened_{i}.wav\")\n",
    "    amplified_audio = audio + 25  \n",
    "    amplified_audio.export(f\"AUDIO_AMPLIFIED/audio_gened_{i}.wav\", format=\"wav\")"
   ]
  }
 ],
 "metadata": {
  "kernelspec": {
   "display_name": "Python 3",
   "language": "python",
   "name": "python3"
  },
  "language_info": {
   "codemirror_mode": {
    "name": "ipython",
    "version": 3
   },
   "file_extension": ".py",
   "mimetype": "text/x-python",
   "name": "python",
   "nbconvert_exporter": "python",
   "pygments_lexer": "ipython3",
   "version": "3.11.5"
  }
 },
 "nbformat": 4,
 "nbformat_minor": 2
}
